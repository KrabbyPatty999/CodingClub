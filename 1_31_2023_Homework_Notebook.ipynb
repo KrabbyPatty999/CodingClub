{
  "nbformat": 4,
  "nbformat_minor": 0,
  "metadata": {
    "colab": {
      "provenance": [],
      "include_colab_link": true
    },
    "kernelspec": {
      "name": "python3",
      "display_name": "Python 3"
    },
    "language_info": {
      "name": "python"
    }
  },
  "cells": [
    {
      "cell_type": "markdown",
      "metadata": {
        "id": "view-in-github",
        "colab_type": "text"
      },
      "source": [
        "<a href=\"https://colab.research.google.com/github/KrabbyPatty999/CodingClub/blob/main/1_31_2023_Homework_Notebook.ipynb\" target=\"_parent\"><img src=\"https://colab.research.google.com/assets/colab-badge.svg\" alt=\"Open In Colab\"/></a>"
      ]
    },
    {
      "cell_type": "markdown",
      "source": [
        "#Week of 1.31.2023: Class Part 1 (Homework)\n",
        "\n"
      ],
      "metadata": {
        "id": "K3JVwUgVElwe"
      }
    },
    {
      "cell_type": "markdown",
      "source": [
        "###Section 1: Basic Structure\n"
      ],
      "metadata": {
        "id": "0R12ultbhgeY"
      }
    },
    {
      "cell_type": "markdown",
      "source": [
        "####Problem 1.1\n",
        "\n",
        "Make a class called User. Create two attributes called first_name\n",
        "and last_name, and then create several other attributes that are typically stored\n",
        "in a user profile. Make a method called describe_user() that prints a summary\n",
        "of the user’s information. Make another method called greet_user() that prints\n",
        "a personalized greeting to the user.\n",
        "Create several instances representing different users, and call both methods\n",
        "for each user.\n"
      ],
      "metadata": {
        "id": "TlJoFhCNxIRh"
      }
    },
    {
      "cell_type": "code",
      "source": [
        "class user:\n",
        "  def __init__(self,fn,ln,ag):\n",
        "    self.firstname=fn\n",
        "    self.lastname=ln\n",
        "    self.age=ag\n",
        "  def describe_user(self):\n",
        "    print(f\"summary: {self.firstname} {self.lastname}, {self.age}\")\n",
        "  def greetuser(self):\n",
        "    print(f\"hello {self.firstname}\")\n",
        "user1= user(\"Kaya\",\"Khare\",\"12\")\n",
        "user1.describe_user()\n",
        "user1.greetuser()\n"
      ],
      "metadata": {
        "id": "m8bxMX0pxN5m",
        "outputId": "094a9108-72c7-4f9a-88dc-01770911206f",
        "colab": {
          "base_uri": "https://localhost:8080/"
        }
      },
      "execution_count": 44,
      "outputs": [
        {
          "output_type": "stream",
          "name": "stdout",
          "text": [
            "summary: Kaya Khare, 12\n",
            "hello Kaya\n"
          ]
        }
      ]
    },
    {
      "cell_type": "markdown",
      "source": [
        "####Problem 1.2\n",
        "\n",
        "Define a Shape base class with an abstract area() method. Create instances for specific shapes (Circle, Rectangle, Triangle) implementing the area() method based on their formulas"
      ],
      "metadata": {
        "id": "lDNekKgjK_le"
      }
    },
    {
      "cell_type": "code",
      "source": [],
      "metadata": {
        "id": "iDKTmytoK-Od"
      },
      "execution_count": 40,
      "outputs": []
    },
    {
      "cell_type": "markdown",
      "source": [
        "####Problem 1.3\n",
        "\n",
        "Create a Book class with title, author, genre, publication date, and methods to display information, lend a book (update status), and calculate age."
      ],
      "metadata": {
        "id": "LNE1gRd6Lbje"
      }
    },
    {
      "cell_type": "code",
      "source": [
        "class book:\n",
        "  def __init__(self,title,author,genre,publication):\n",
        "    self.title=title\n",
        "    self.author=author\n",
        "    self.genre=genre\n",
        "    self.publication=publication\n",
        "    self.lendbook= False\n",
        "  def display(self):\n",
        "    print(f\"DISPLAY INFO: {self.title}, {self.author}, {self.genre}, {self.publication}\")\n",
        "  def lendbook1(self):\n",
        "    if not self.lendbook:\n",
        "      self.lendbook= True\n",
        "      print(f\"{self.title} has not been lent\")\n",
        "    else:\n",
        "      print(f\"{self.title} has been lent\")\n",
        "book1=book(\"Kayayayaya\",\"kaya khare\",\"historical\",\"2023\")\n",
        "book1.display()\n",
        "book1.lendbook1()"
      ],
      "metadata": {
        "id": "yu1DE186LcBb",
        "outputId": "28139598-ac3a-44d1-c3d9-5f0f08dead99",
        "colab": {
          "base_uri": "https://localhost:8080/"
        }
      },
      "execution_count": 39,
      "outputs": [
        {
          "output_type": "stream",
          "name": "stdout",
          "text": [
            "DISPLAY INFO: Kayayayaya, kaya khare, historical, 2023\n",
            "Kayayayaya has not been lent\n"
          ]
        }
      ]
    }
  ]
}