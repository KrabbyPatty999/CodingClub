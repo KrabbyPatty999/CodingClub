{
  "nbformat": 4,
  "nbformat_minor": 0,
  "metadata": {
    "colab": {
      "provenance": [],
      "authorship_tag": "ABX9TyP3Svygk42l5WIq6XolRIS7",
      "include_colab_link": true
    },
    "kernelspec": {
      "name": "python3",
      "display_name": "Python 3"
    },
    "language_info": {
      "name": "python"
    }
  },
  "cells": [
    {
      "cell_type": "markdown",
      "metadata": {
        "id": "view-in-github",
        "colab_type": "text"
      },
      "source": [
        "<a href=\"https://colab.research.google.com/github/KrabbyPatty999/CodingClub/blob/main/hw.ipynb\" target=\"_parent\"><img src=\"https://colab.research.google.com/assets/colab-badge.svg\" alt=\"Open In Colab\"/></a>"
      ]
    },
    {
      "cell_type": "code",
      "execution_count": 12,
      "metadata": {
        "colab": {
          "base_uri": "https://localhost:8080/"
        },
        "id": "g-pV9sUbcOOv",
        "outputId": "01caaf40-5ebb-4e2e-d984-add4130e098d"
      },
      "outputs": [
        {
          "output_type": "stream",
          "name": "stdout",
          "text": [
            "house number is 6.0\n",
            "total number of houses are 8\n",
            "house number is 35.0\n",
            "total number of houses are 49\n",
            "house number is 204.0\n",
            "total number of houses are 288\n"
          ]
        }
      ],
      "source": [
        "import math\n",
        "for i in range(2,500):\n",
        "    k=math.sqrt(((i**2)+i)/2)\n",
        "    if k.is_integer():\n",
        "      print(\"house number is \" + str(k))\n",
        "      print(\"total number of houses are \" + str(i))\n"
      ]
    },
    {
      "cell_type": "code",
      "source": [],
      "metadata": {
        "id": "0ngSxtBAkcdZ"
      },
      "execution_count": null,
      "outputs": []
    }
  ]
}